{
 "cells": [
  {
   "cell_type": "code",
   "execution_count": 1,
   "metadata": {
    "slideshow": {
     "slide_type": "skip"
    }
   },
   "outputs": [],
   "source": [
    "# ============================================================\n",
    "# Notebook setup\n",
    "# ============================================================\n",
    "\n",
    "%load_ext autoreload\n",
    "%autoreload 2\n",
    "\n",
    "interactive_figures = True\n",
    "if interactive_figures:\n",
    "    %matplotlib widget\n",
    "    figsize = (9,3)\n",
    "else:\n",
    "    figsize = (13,4)\n",
    "\n",
    "from sklearn.neighbors import KernelDensity\n",
    "from sklearn.model_selection import GridSearchCV\n",
    "from util import nab\n",
    "import numpy as np\n",
    "from matplotlib import pyplot as plt\n",
    "import pandas as pd\n",
    "\n",
    "# Load data\n",
    "data_folder = '/app/data/nab'\n",
    "file_name = 'realTraffic/occupancy_6005.csv'\n",
    "data, labels, windows = nab.load_series(file_name, data_folder)"
   ]
  },
  {
   "cell_type": "markdown",
   "metadata": {
    "slideshow": {
     "slide_type": "slide"
    }
   },
   "source": [
    "# Missing Data in Time Series"
   ]
  },
  {
   "cell_type": "markdown",
   "metadata": {
    "slideshow": {
     "slide_type": "subslide"
    }
   },
   "source": [
    "## Traffic Data, Again\n",
    "\n",
    "**Say we are contacted from a local transportation authority**\n",
    "\n",
    "<center><img src=\"assets/traffic.jpg\" width=\"900px\"/></center>\n",
    "\n",
    "They want to improve their traffic monitoring system"
   ]
  },
  {
   "cell_type": "markdown",
   "metadata": {
    "slideshow": {
     "slide_type": "subslide"
    }
   },
   "source": [
    "## Traffic Data, Again\n",
    "\n",
    "**They give us data from an occupancy sensor**\n",
    "\n",
    "Our data refers to real traffic in the Minnesota Twin Cities Area"
   ]
  },
  {
   "cell_type": "code",
   "execution_count": 3,
   "metadata": {},
   "outputs": [
    {
     "data": {
      "application/vnd.jupyter.widget-view+json": {
       "model_id": "07158497ed4a4f4ab544c2a8e177dd19",
       "version_major": 2,
       "version_minor": 0
      },
      "text/plain": [
       "Canvas(toolbar=Toolbar(toolitems=[('Home', 'Reset original view', 'home', 'home'), ('Back', 'Back to previous …"
      ]
     },
     "metadata": {},
     "output_type": "display_data"
    }
   ],
   "source": [
    "nab.plot_series(data, labels, windows, figsize=figsize)"
   ]
  },
  {
   "cell_type": "markdown",
   "metadata": {},
   "source": [
    "* They have pre-labeled an (easy) anomaly that they wish to detect\n",
    "* ...But that is _not the most striking aspect_ of this series"
   ]
  },
  {
   "cell_type": "markdown",
   "metadata": {
    "slideshow": {
     "slide_type": "subslide"
    }
   },
   "source": [
    "## Traffic Data, Again\n",
    "\n",
    "**There is a period, and _straight lines in the plot_**"
   ]
  },
  {
   "cell_type": "code",
   "execution_count": 4,
   "metadata": {},
   "outputs": [
    {
     "data": {
      "application/vnd.jupyter.widget-view+json": {
       "model_id": "b727218e4b7f463fbb7f2488af9c9cc8",
       "version_major": 2,
       "version_minor": 0
      },
      "text/plain": [
       "Canvas(toolbar=Toolbar(toolitems=[('Home', 'Reset original view', 'home', 'home'), ('Back', 'Back to previous …"
      ]
     },
     "metadata": {},
     "output_type": "display_data"
    }
   ],
   "source": [
    "nab.plot_series(data, labels, windows, figsize=figsize)"
   ]
  },
  {
   "cell_type": "markdown",
   "metadata": {},
   "source": [
    "They are _artefacts_, due to _missing values_ in the time series"
   ]
  },
  {
   "cell_type": "markdown",
   "metadata": {
    "slideshow": {
     "slide_type": "subslide"
    }
   },
   "source": [
    "## Missing Values\n",
    "\n",
    "**We can make it clearer by explicitly plotting the sampling points**"
   ]
  },
  {
   "cell_type": "code",
   "execution_count": 9,
   "metadata": {},
   "outputs": [
    {
     "data": {
      "application/vnd.jupyter.widget-view+json": {
       "model_id": "d79179b423f94102ad2814a8bece5b63",
       "version_major": 2,
       "version_minor": 0
      },
      "text/plain": [
       "Canvas(toolbar=Toolbar(toolitems=[('Home', 'Reset original view', 'home', 'home'), ('Back', 'Back to previous …"
      ]
     },
     "metadata": {},
     "output_type": "display_data"
    }
   ],
   "source": [
    "nab.plot_series(data, labels, windows, show_sampling_points=True, figsize=figsize)"
   ]
  },
  {
   "cell_type": "markdown",
   "metadata": {},
   "source": [
    "There is a large gap, plus scattered missing values here and there"
   ]
  },
  {
   "cell_type": "markdown",
   "metadata": {
    "slideshow": {
     "slide_type": "subslide"
    }
   },
   "source": [
    "## Missing Values in Time Series\n",
    "\n",
    "**Missing values in real-world time series are _very common_**\n",
    "\n",
    "They arise for a variety of reasons:\n",
    "\n",
    "* Malfunctioning sensors\n",
    "* Network problems\n",
    "* Lost data\n",
    "* Sensor maintenance/installation/removal\n",
    "* ...\n",
    "\n",
    "**...And can be very annoying to deal with**\n",
    "\n",
    "* They prevent the application of sliding windows\n",
    "* They complicate the detection of periods\n",
    "* ..."
   ]
  },
  {
   "cell_type": "markdown",
   "metadata": {
    "slideshow": {
     "slide_type": "slide"
    }
   },
   "source": [
    "# Preparing the Ground"
   ]
  },
  {
   "cell_type": "markdown",
   "metadata": {
    "slideshow": {
     "slide_type": "subslide"
    }
   },
   "source": [
    "## Preparing the Ground\n",
    "\n",
    "**Before we can deal with missing values we need to tackle an issue**\n",
    "\n",
    "I.e. our main series has a _sparse index_\n",
    "\n",
    "* ...Meaning that index values are non-contiguous\n",
    "* ...And missing values are represented as gaps\n",
    "\n",
    "**If we want to fill the missing values...**\n",
    "\n",
    "* ...We need to decide _where_ the missing values are\n",
    "\n",
    "> **In other words, we need a _dense_ (temporal) index**\n",
    "\n",
    "With a dense index:\n",
    "\n",
    "* Missing values can be represented as NaN (Not a Number)\n",
    "* ...And can be filled by replacing NaN with a meaningful value"
   ]
  },
  {
   "cell_type": "markdown",
   "metadata": {
    "slideshow": {
     "slide_type": "subslide"
    }
   },
   "source": [
    "## Choosing a Sampling Frequency\n",
    "\n",
    "**First, we need to pick a frequency for the new index**\n",
    "\n",
    "We start by having a look at the typical sampling step in our series:"
   ]
  },
  {
   "cell_type": "code",
   "execution_count": 11,
   "metadata": {},
   "outputs": [
    {
     "data": {
      "text/html": [
       "<div>\n",
       "<style scoped>\n",
       "    .dataframe tbody tr th:only-of-type {\n",
       "        vertical-align: middle;\n",
       "    }\n",
       "\n",
       "    .dataframe tbody tr th {\n",
       "        vertical-align: top;\n",
       "    }\n",
       "\n",
       "    .dataframe thead th {\n",
       "        text-align: right;\n",
       "    }\n",
       "</style>\n",
       "<table border=\"1\" class=\"dataframe\">\n",
       "  <thead>\n",
       "    <tr style=\"text-align: right;\">\n",
       "      <th></th>\n",
       "      <th>value</th>\n",
       "    </tr>\n",
       "    <tr>\n",
       "      <th>timestamp</th>\n",
       "      <th></th>\n",
       "    </tr>\n",
       "  </thead>\n",
       "  <tbody>\n",
       "    <tr>\n",
       "      <th>2015-09-01 13:45:00</th>\n",
       "      <td>3.06</td>\n",
       "    </tr>\n",
       "    <tr>\n",
       "      <th>2015-09-01 13:50:00</th>\n",
       "      <td>6.44</td>\n",
       "    </tr>\n",
       "    <tr>\n",
       "      <th>2015-09-01 13:55:00</th>\n",
       "      <td>5.17</td>\n",
       "    </tr>\n",
       "    <tr>\n",
       "      <th>2015-09-01 14:00:00</th>\n",
       "      <td>3.83</td>\n",
       "    </tr>\n",
       "    <tr>\n",
       "      <th>2015-09-01 14:05:00</th>\n",
       "      <td>4.50</td>\n",
       "    </tr>\n",
       "  </tbody>\n",
       "</table>\n",
       "</div>"
      ],
      "text/plain": [
       "                     value\n",
       "timestamp                 \n",
       "2015-09-01 13:45:00   3.06\n",
       "2015-09-01 13:50:00   6.44\n",
       "2015-09-01 13:55:00   5.17\n",
       "2015-09-01 14:00:00   3.83\n",
       "2015-09-01 14:05:00   4.50"
      ]
     },
     "execution_count": 11,
     "metadata": {},
     "output_type": "execute_result"
    }
   ],
   "source": [
    "data.head()"
   ]
  },
  {
   "cell_type": "markdown",
   "metadata": {},
   "source": [
    "* The interval between consecutive measurements seems to be 5 minute long\n",
    "* ...But looking at just a few data points is not enough"
   ]
  },
  {
   "cell_type": "markdown",
   "metadata": {
    "slideshow": {
     "slide_type": "subslide"
    }
   },
   "source": [
    "## Choosing a Sampling Frequency\n",
    "\n",
    "**It is much better to compute the distance between consecutive index values**"
   ]
  },
  {
   "cell_type": "code",
   "execution_count": 12,
   "metadata": {},
   "outputs": [
    {
     "data": {
      "text/plain": [
       "TimedeltaIndex(['0 days 00:05:00', '0 days 00:05:00', '0 days 00:05:00'], dtype='timedelta64[ns]', name='timestamp', freq=None)"
      ]
     },
     "execution_count": 12,
     "metadata": {},
     "output_type": "execute_result"
    }
   ],
   "source": [
    "delta = data.index[1:] - data.index[:-1]\n",
    "delta[:3]"
   ]
  },
  {
   "cell_type": "markdown",
   "metadata": {},
   "source": [
    "* The difference between two `datetime` objects is a `timedelta` object\n",
    "* They are all parts of [the `datetime` module](https://docs.python.org/3/library/datetime.html)\n",
    "\n",
    "**Then we can check the _value counts_**\n",
    "\n",
    "* This can be done with the `value_counts` method\n",
    "\n",
    "The methods returns a series:\n",
    "\n",
    "* The index contains values\n",
    "* The series data are the corresponding counts"
   ]
  },
  {
   "cell_type": "markdown",
   "metadata": {
    "slideshow": {
     "slide_type": "subslide"
    }
   },
   "source": [
    "## Choosing a Sampling Frequency\n",
    "\n",
    "**Let's have a look at our value counts**"
   ]
  },
  {
   "cell_type": "code",
   "execution_count": 22,
   "metadata": {},
   "outputs": [
    {
     "data": {
      "text/plain": [
       "0 days 00:05:00    1754\n",
       "0 days 00:10:00     340\n",
       "0 days 00:15:00     106\n",
       "0 days 00:20:00      37\n",
       "0 days 00:04:00      26\n",
       "0 days 00:25:00      22\n",
       "0 days 00:06:00      18\n",
       "0 days 00:30:00       9\n",
       "0 days 00:35:00       8\n",
       "0 days 00:11:00       7\n",
       "Name: timestamp, dtype: int64"
      ]
     },
     "execution_count": 22,
     "metadata": {},
     "output_type": "execute_result"
    }
   ],
   "source": [
    "vc = pd.Series(delta).value_counts()\n",
    "vc.iloc[:10]"
   ]
  },
  {
   "cell_type": "markdown",
   "metadata": {},
   "source": [
    "**By far the most common value is 5 minutes**\n",
    "\n",
    "* Some values are not multiples of 5 minutes (e.g. 4, 6, 11 minutes)\n",
    "* I.e. they are _out of alignment_"
   ]
  },
  {
   "cell_type": "markdown",
   "metadata": {
    "slideshow": {
     "slide_type": "subslide"
    }
   },
   "source": [
    "## Resampling the Original Dataset\n",
    "\n",
    "**Therefore, first we need to _realign_ the original index**\n",
    "\n",
    "This is also called _resampling_ (or _binning_), and can be done in pandas with:\n",
    "\n",
    "```python\n",
    "DatetimeIndex.resample(rule=None, ...)\n",
    "```\n",
    "\n",
    "* `rule` specifies the length of each individual interval (or \"bin\")\n",
    "* The method has many additional options to control its behavior\n",
    "\n",
    "**Resample is an iterator: we need to choose what to do with each bin**\n",
    "\n",
    "E.g. compute the mean, stdev, take the first value"
   ]
  },
  {
   "cell_type": "code",
   "execution_count": 15,
   "metadata": {},
   "outputs": [
    {
     "data": {
      "text/html": [
       "<div>\n",
       "<style scoped>\n",
       "    .dataframe tbody tr th:only-of-type {\n",
       "        vertical-align: middle;\n",
       "    }\n",
       "\n",
       "    .dataframe tbody tr th {\n",
       "        vertical-align: top;\n",
       "    }\n",
       "\n",
       "    .dataframe thead th {\n",
       "        text-align: right;\n",
       "    }\n",
       "</style>\n",
       "<table border=\"1\" class=\"dataframe\">\n",
       "  <thead>\n",
       "    <tr style=\"text-align: right;\">\n",
       "      <th></th>\n",
       "      <th>value</th>\n",
       "    </tr>\n",
       "    <tr>\n",
       "      <th>timestamp</th>\n",
       "      <th></th>\n",
       "    </tr>\n",
       "  </thead>\n",
       "  <tbody>\n",
       "    <tr>\n",
       "      <th>2015-09-01 13:45:00</th>\n",
       "      <td>3.06</td>\n",
       "    </tr>\n",
       "    <tr>\n",
       "      <th>2015-09-01 13:50:00</th>\n",
       "      <td>6.44</td>\n",
       "    </tr>\n",
       "    <tr>\n",
       "      <th>2015-09-01 13:55:00</th>\n",
       "      <td>5.17</td>\n",
       "    </tr>\n",
       "    <tr>\n",
       "      <th>2015-09-01 14:00:00</th>\n",
       "      <td>3.83</td>\n",
       "    </tr>\n",
       "    <tr>\n",
       "      <th>2015-09-01 14:05:00</th>\n",
       "      <td>4.50</td>\n",
       "    </tr>\n",
       "  </tbody>\n",
       "</table>\n",
       "</div>"
      ],
      "text/plain": [
       "                     value\n",
       "timestamp                 \n",
       "2015-09-01 13:45:00   3.06\n",
       "2015-09-01 13:50:00   6.44\n",
       "2015-09-01 13:55:00   5.17\n",
       "2015-09-01 14:00:00   3.83\n",
       "2015-09-01 14:05:00   4.50"
      ]
     },
     "execution_count": 15,
     "metadata": {},
     "output_type": "execute_result"
    }
   ],
   "source": [
    "ddata = data.resample('5min').mean()\n",
    "ddata.head()"
   ]
  },
  {
   "cell_type": "markdown",
   "metadata": {
    "slideshow": {
     "slide_type": "subslide"
    }
   },
   "source": [
    "## Inspecting the Resampled Dataset\n",
    "\n",
    "**Now we can inspect this new \"dense\" series**"
   ]
  },
  {
   "cell_type": "code",
   "execution_count": 19,
   "metadata": {
    "scrolled": true
   },
   "outputs": [
    {
     "data": {
      "application/vnd.jupyter.widget-view+json": {
       "model_id": "763f1ad522464f8db7af60af2e9c5d1c",
       "version_major": 2,
       "version_minor": 0
      },
      "text/plain": [
       "Canvas(toolbar=Toolbar(toolitems=[('Home', 'Reset original view', 'home', 'home'), ('Back', 'Back to previous …"
      ]
     },
     "metadata": {},
     "output_type": "display_data"
    }
   ],
   "source": [
    "nab.plot_series(ddata, labels, windows, show_markers=True, figsize=figsize)"
   ]
  },
  {
   "cell_type": "markdown",
   "metadata": {},
   "source": [
    "* The artifacts have disappeared!\n",
    "*...And the true extent of our problem becomes apparent :-)"
   ]
  },
  {
   "cell_type": "markdown",
   "metadata": {
    "slideshow": {
     "slide_type": "subslide"
    }
   },
   "source": [
    "## Considerations\n",
    "\n",
    "**Some considerations and take-home messages**\n",
    "\n",
    "Missing values are extremely common in real world data\n",
    "\n",
    "* Time series are no exception\n",
    "\n",
    "Missing values are particularly problematic with time series\n",
    "\n",
    "* Mostly, they prevent the application of a (classical) sliding window\n",
    "* ...Though some forms of sliding windows are still fine\n",
    "\n",
    "Realigning a time series can be useful in many context\n",
    "\n",
    "* E.g. data from sensors with misaligned clocks\n",
    "* E.g. data from sensors with different sampling frequencies\n",
    "  - This case is however a bit more complicated"
   ]
  }
 ],
 "metadata": {
  "celltoolbar": "Slideshow",
  "kernelspec": {
   "display_name": "Python 3",
   "language": "python",
   "name": "python3"
  },
  "language_info": {
   "codemirror_mode": {
    "name": "ipython",
    "version": 3
   },
   "file_extension": ".py",
   "mimetype": "text/x-python",
   "name": "python",
   "nbconvert_exporter": "python",
   "pygments_lexer": "ipython3",
   "version": "3.9.2"
  },
  "rise": {
   "center": false,
   "transition": "fade"
  },
  "widgets": {
   "application/vnd.jupyter.widget-state+json": {
    "state": {},
    "version_major": 2,
    "version_minor": 0
   }
  }
 },
 "nbformat": 4,
 "nbformat_minor": 4
}
