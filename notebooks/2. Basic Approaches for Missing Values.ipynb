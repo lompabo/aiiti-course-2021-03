{
 "cells": [
  {
   "cell_type": "code",
   "execution_count": 1,
   "metadata": {
    "slideshow": {
     "slide_type": "skip"
    }
   },
   "outputs": [],
   "source": [
    "# ============================================================\n",
    "# Notebook setup\n",
    "# ============================================================\n",
    "\n",
    "%load_ext autoreload\n",
    "%autoreload 2\n",
    "\n",
    "interactive_figures = True\n",
    "if interactive_figures:\n",
    "    %matplotlib widget\n",
    "    figsize = (9,3)\n",
    "else:\n",
    "    figsize = (13,4)\n",
    "\n",
    "from sklearn.neighbors import KernelDensity\n",
    "from sklearn.model_selection import GridSearchCV\n",
    "from util import nab\n",
    "import numpy as np\n",
    "from matplotlib import pyplot as plt\n",
    "import pandas as pd\n",
    "\n",
    "# Load data\n",
    "data_folder = '/app/data/nab'\n",
    "\n",
    "file_name1 = 'realTweets/Twitter_volume_AMZN.csv'\n",
    "data1, labels1, windows1 = nab.load_series(file_name1, data_folder)\n",
    "\n",
    "file_name2 = 'realTraffic/occupancy_6005.csv'\n",
    "data2, labels2, windows2 = nab.load_series(file_name2, data_folder)"
   ]
  },
  {
   "cell_type": "markdown",
   "metadata": {
    "slideshow": {
     "slide_type": "slide"
    }
   },
   "source": [
    "# Basic Approaches for Missing Values"
   ]
  },
  {
   "cell_type": "markdown",
   "metadata": {
    "slideshow": {
     "slide_type": "subslide"
    }
   },
   "source": [
    "## Basic Approaches for Missing Values\n",
    "\n",
    "**We will now discuss a few simple approaches to deal with missing values**\n",
    "\n",
    "* We cannot easily assess them on our traffic data\n",
    "* ...Since we do not know the ground truth of each missing value\n",
    "\n",
    "**Therefore, we will initially use _partially synthetic data_**\n",
    "\n",
    "* We will start from a time series without any missing value, then remove values artificially\n",
    "* ...And measure the accuracy of our filling approaches via the Root MSE\n",
    "\n",
    "$$\n",
    "\\mathit{RMSE} = \\sqrt{\\frac{1}{n}\\sum_{i = 0}^n (\\tilde{x}_i - \\hat{x}_i)^2}\n",
    "$$\n",
    "\n",
    "Where $\\tilde{x}_i$ is a value from the filled series and $\\hat{x}_i$ the ground truth\n",
    "\n",
    "* $\\tilde{x}_i = \\hat{x}_i$ if no value is missing\n",
    "* Hence, any MSE difference is entirely due to missing values"
   ]
  },
  {
   "cell_type": "markdown",
   "metadata": {
    "slideshow": {
     "slide_type": "subslide"
    }
   },
   "source": [
    "## The Benchmark Dataset\n",
    "\n",
    "**Our benchmark dataset consists of twitter volume related to amazon.com**"
   ]
  },
  {
   "cell_type": "code",
   "execution_count": 3,
   "metadata": {},
   "outputs": [
    {
     "data": {
      "application/vnd.jupyter.widget-view+json": {
       "model_id": "2781da76659f4614a25418e4c29577ec",
       "version_major": 2,
       "version_minor": 0
      },
      "text/plain": [
       "Canvas(toolbar=Toolbar(toolitems=[('Home', 'Reset original view', 'home', 'home'), ('Back', 'Back to previous …"
      ]
     },
     "metadata": {},
     "output_type": "display_data"
    }
   ],
   "source": [
    "nab.plot_series(data1, labels1, windows1, figsize=figsize)"
   ]
  },
  {
   "cell_type": "markdown",
   "metadata": {},
   "source": [
    "* There are a few anomalies, but we are not concerned with them\n",
    "* Then series has a seasonal/periodic component"
   ]
  },
  {
   "cell_type": "markdown",
   "metadata": {
    "slideshow": {
     "slide_type": "subslide"
    }
   },
   "source": [
    "## The Benchmark Dataset\n",
    "\n",
    "**We now introduce some missing values**\n",
    "\n",
    "First, we draw some starting points at random"
   ]
  },
  {
   "cell_type": "code",
   "execution_count": 4,
   "metadata": {},
   "outputs": [
    {
     "data": {
      "text/plain": [
       "array([ 88, 123, 169, 304])"
      ]
     },
     "execution_count": 4,
     "metadata": {},
     "output_type": "execute_result"
    }
   ],
   "source": [
    "np.random.seed(42) # seed (to get reproducible results)\n",
    "mv_num = 30 # number of intervals with missing values\n",
    "mv_starts = np.random.choice(range(len(data1.index)), mv_num, replace=False)\n",
    "mv_starts.sort()\n",
    "mv_starts[:4]"
   ]
  },
  {
   "cell_type": "markdown",
   "metadata": {},
   "source": [
    "Then, we clear values over increasingly long intervals:"
   ]
  },
  {
   "cell_type": "code",
   "execution_count": 5,
   "metadata": {},
   "outputs": [],
   "source": [
    "data1_mv = data1.copy()\n",
    "for i in range(mv_num):\n",
    "    data1_mv.iloc[mv_starts[i]:mv_starts[i]+i+1] = np.NaN"
   ]
  },
  {
   "cell_type": "markdown",
   "metadata": {},
   "source": [
    "* The first interval contains 1 missing value, the second 2, the third 3..."
   ]
  },
  {
   "cell_type": "markdown",
   "metadata": {
    "slideshow": {
     "slide_type": "subslide"
    }
   },
   "source": [
    "## The Benchmark Dataset\n",
    "\n",
    "**Let's have a look at the results around one of the \"holes\"**"
   ]
  },
  {
   "cell_type": "code",
   "execution_count": 6,
   "metadata": {},
   "outputs": [
    {
     "data": {
      "application/vnd.jupyter.widget-view+json": {
       "model_id": "0d04b03626144d3d97f83cce83ab7bb8",
       "version_major": 2,
       "version_minor": 0
      },
      "text/plain": [
       "Canvas(toolbar=Toolbar(toolitems=[('Home', 'Reset original view', 'home', 'home'), ('Back', 'Back to previous …"
      ]
     },
     "metadata": {},
     "output_type": "display_data"
    }
   ],
   "source": [
    "idx, pad = 10, 20\n",
    "nab.plot_series(data1_mv.iloc[mv_starts[idx]-pad:mv_starts[idx]+mv_num+pad+1], figsize=figsize)\n",
    "plt.plot(data1.iloc[mv_starts[idx]-1:mv_starts[idx]+idx+2]);"
   ]
  },
  {
   "cell_type": "markdown",
   "metadata": {},
   "source": [
    "* The orange part corresponds to the removed values"
   ]
  },
  {
   "cell_type": "markdown",
   "metadata": {
    "slideshow": {
     "slide_type": "subslide"
    }
   },
   "source": [
    "## Forward/Backward Filling\n",
    "\n",
    "**The easiest approach for missing values consists in _replicating nearby observations_**\n",
    "\n",
    "* _Forward filling:_ propagate forward the last valid observation\n",
    "* _Backward filling:_ propagate backward the next valid observation\n",
    "\n",
    "**An important observation:**\n",
    "\n",
    "* When filling missing values, _we have access to the whole series_\n",
    "* ...So we can reason _both forward and backwards_\n",
    "\n",
    "**Forward/backward filling are simple methods, but they can work well**\n",
    "\n",
    "* Rationale: most time series have a certain \"inertia\"\n",
    "* ...I.e.: a strong level of local correlation\n",
    "* For this reason, the last observation is a good predictor for the next one\n",
    "* ...Remember the _persistence_ predictor?"
   ]
  },
  {
   "cell_type": "markdown",
   "metadata": {
    "slideshow": {
     "slide_type": "subslide"
    }
   },
   "source": [
    "## Forward/Backward Filling\n",
    "\n",
    "**Forward and backward filling are pre-implemented in pandas**\n",
    "\n",
    "They are available through the `fillna` method:\n",
    "\n",
    "```python\n",
    "DataFrame.fillna(..., method=None, ...)\n",
    "```\n",
    "\n",
    "* `fillna` replaces `NaN` values in a `DataFrame` or `Series`\n",
    "* The `method` parameter can take the values:\n",
    "  * \"pad\" or \"ffill\": these correspond to forward filling\n",
    "  * \"backfill\" or \"bfill\": these correspond to backward filling\n",
    "\n",
    "They are generally applied to datasets with a dense index\n",
    "\n",
    "* Remember that our benchmark dataset already has a dense index"
   ]
  },
  {
   "cell_type": "markdown",
   "metadata": {
    "slideshow": {
     "slide_type": "subslide"
    }
   },
   "source": [
    "## Forward/Backward Filling on the Benchmark\n",
    "\n",
    "**We can finally test forward/backward filling**"
   ]
  },
  {
   "cell_type": "code",
   "execution_count": 7,
   "metadata": {},
   "outputs": [],
   "source": [
    "ffseries = data1_mv.fillna(method='ffill')\n",
    "bfseries = data1_mv.fillna(method='bfill')"
   ]
  },
  {
   "cell_type": "markdown",
   "metadata": {},
   "source": [
    "We can check the corresponding MSE:"
   ]
  },
  {
   "cell_type": "code",
   "execution_count": 9,
   "metadata": {},
   "outputs": [
    {
     "name": "stdout",
     "output_type": "stream",
     "text": [
      "RMSE for forwad filling: 3.18, for backward filling 6.45\n"
     ]
    }
   ],
   "source": [
    "from sklearn.metrics import mean_squared_error\n",
    "rmse_ff = np.sqrt(mean_squared_error(data1, ffseries))\n",
    "rmse_bf = np.sqrt(mean_squared_error(data1, bfseries))\n",
    "print(f'RMSE for forwad filling: {rmse_ff:.2f}, for backward filling {rmse_bf:.2f}')"
   ]
  },
  {
   "cell_type": "markdown",
   "metadata": {},
   "source": [
    "* In this case forward filling seems to work better\n",
    "* The results are of course application-dependent"
   ]
  },
  {
   "cell_type": "markdown",
   "metadata": {
    "slideshow": {
     "slide_type": "subslide"
    }
   },
   "source": [
    "## Forward/Backward Filling on the Benchmark\n",
    "\n",
    "**Let's have a close look at forward filling around some of the missing values**"
   ]
  },
  {
   "cell_type": "code",
   "execution_count": 11,
   "metadata": {},
   "outputs": [
    {
     "data": {
      "application/vnd.jupyter.widget-view+json": {
       "model_id": "6547d98a104d4208867a828ab6fbc714",
       "version_major": 2,
       "version_minor": 0
      },
      "text/plain": [
       "Canvas(toolbar=Toolbar(toolitems=[('Home', 'Reset original view', 'home', 'home'), ('Back', 'Back to previous …"
      ]
     },
     "metadata": {},
     "output_type": "display_data"
    }
   ],
   "source": [
    "idx, pad = 0, 20\n",
    "nab.plot_series(data1.iloc[mv_starts[idx]-pad:mv_starts[idx]+mv_num+pad+1], figsize=figsize)\n",
    "plt.plot(ffseries.iloc[mv_starts[idx]-1:mv_starts[idx]+idx+2]);"
   ]
  },
  {
   "cell_type": "markdown",
   "metadata": {},
   "source": [
    "* This is the first (and shortest) gap"
   ]
  },
  {
   "cell_type": "markdown",
   "metadata": {
    "slideshow": {
     "slide_type": "subslide"
    }
   },
   "source": [
    "## Forward/Backward Filling on the Benchmark\n",
    "\n",
    "**Let's have a close look at forward filling around some of the missing values**"
   ]
  },
  {
   "cell_type": "code",
   "execution_count": 12,
   "metadata": {},
   "outputs": [
    {
     "data": {
      "application/vnd.jupyter.widget-view+json": {
       "model_id": "e8d5f18c6a7e42df8af339ab1969a778",
       "version_major": 2,
       "version_minor": 0
      },
      "text/plain": [
       "Canvas(toolbar=Toolbar(toolitems=[('Home', 'Reset original view', 'home', 'home'), ('Back', 'Back to previous …"
      ]
     },
     "metadata": {},
     "output_type": "display_data"
    }
   ],
   "source": [
    "idx, pad = mv_num//2, 20\n",
    "nab.plot_series(data1.iloc[mv_starts[idx]-pad:mv_starts[idx]+mv_num+pad+1], figsize=figsize)\n",
    "plt.plot(ffseries.iloc[mv_starts[idx]-1:mv_starts[idx]+idx+2]);"
   ]
  },
  {
   "cell_type": "markdown",
   "metadata": {},
   "source": [
    "* This is an intermediate-length gap"
   ]
  },
  {
   "cell_type": "markdown",
   "metadata": {
    "slideshow": {
     "slide_type": "subslide"
    }
   },
   "source": [
    "## Forward/Backward Filling on the Benchmark\n",
    "\n",
    "**Let's have a close look at forward filling around some of the missing values**"
   ]
  },
  {
   "cell_type": "code",
   "execution_count": 13,
   "metadata": {},
   "outputs": [
    {
     "data": {
      "application/vnd.jupyter.widget-view+json": {
       "model_id": "de502b8dedbb4d96990de9744eedb9fd",
       "version_major": 2,
       "version_minor": 0
      },
      "text/plain": [
       "Canvas(toolbar=Toolbar(toolitems=[('Home', 'Reset original view', 'home', 'home'), ('Back', 'Back to previous …"
      ]
     },
     "metadata": {},
     "output_type": "display_data"
    }
   ],
   "source": [
    "idx, pad = mv_num-1, 20\n",
    "nab.plot_series(data1.iloc[mv_starts[idx]-pad:mv_starts[idx]+mv_num+pad+1], figsize=figsize)\n",
    "plt.plot(ffseries.iloc[mv_starts[idx]-1:mv_starts[idx]+idx+2]);"
   ]
  },
  {
   "cell_type": "markdown",
   "metadata": {},
   "source": [
    "* This is the longest gap"
   ]
  },
  {
   "cell_type": "markdown",
   "metadata": {
    "slideshow": {
     "slide_type": "subslide"
    }
   },
   "source": [
    "## Forward/Backward Filling on the Traffic Data\n",
    "\n",
    "**Let's now consider the traffic data**\n",
    "\n",
    "We will limit ourselves to forward filling:"
   ]
  },
  {
   "cell_type": "code",
   "execution_count": 15,
   "metadata": {},
   "outputs": [],
   "source": [
    "ddata2 = data2.resample('5min').mean()\n",
    "ddata2_ff = ddata2.fillna(method='ffill')"
   ]
  },
  {
   "cell_type": "markdown",
   "metadata": {},
   "source": [
    "* `data2` contains the traffic series\n",
    "\n",
    "**We now isolate the filled values**\n",
    "\n",
    "This is needed so that we can highlight them in the forthcoming plots"
   ]
  },
  {
   "cell_type": "code",
   "execution_count": 16,
   "metadata": {},
   "outputs": [],
   "source": [
    "ddata2_ffonly = ddata2_ff.copy()\n",
    "ddata2_ffonly[~ddata2['value'].isnull()] = np.nan"
   ]
  },
  {
   "cell_type": "markdown",
   "metadata": {},
   "source": [
    "* `ffseries` and `bfseries` now contain _only_ the filled values"
   ]
  },
  {
   "cell_type": "markdown",
   "metadata": {
    "slideshow": {
     "slide_type": "subslide"
    }
   },
   "source": [
    "## Forward/Backward Filling on the Traffic Data\n",
    "\n",
    "**Let us have a look at the results of forward filling:**"
   ]
  },
  {
   "cell_type": "code",
   "execution_count": 17,
   "metadata": {
    "scrolled": true
   },
   "outputs": [
    {
     "data": {
      "application/vnd.jupyter.widget-view+json": {
       "model_id": "1f24b5771ce64b95b2b57faeee758baf",
       "version_major": 2,
       "version_minor": 0
      },
      "text/plain": [
       "Canvas(toolbar=Toolbar(toolitems=[('Home', 'Reset original view', 'home', 'home'), ('Back', 'Back to previous …"
      ]
     },
     "metadata": {},
     "output_type": "display_data"
    }
   ],
   "source": [
    "nab.plot_series(ddata2_ff, show_markers=True, figsize=figsize)\n",
    "plt.scatter(ddata2_ffonly.index, ddata2_ffonly, marker='.', c='tab:orange');"
   ]
  },
  {
   "cell_type": "markdown",
   "metadata": {
    "slideshow": {
     "slide_type": "subslide"
    }
   },
   "source": [
    "## Forward/Backward Filling on the Traffic Data\n",
    "\n",
    "**Forward filling works reasonably for small gaps**"
   ]
  },
  {
   "cell_type": "code",
   "execution_count": 19,
   "metadata": {},
   "outputs": [
    {
     "data": {
      "application/vnd.jupyter.widget-view+json": {
       "model_id": "a2a7eb4938ca4f4da23d2188bca66b7b",
       "version_major": 2,
       "version_minor": 0
      },
      "text/plain": [
       "Canvas(toolbar=Toolbar(toolitems=[('Home', 'Reset original view', 'home', 'home'), ('Back', 'Back to previous …"
      ]
     },
     "metadata": {},
     "output_type": "display_data"
    }
   ],
   "source": [
    "mask = (ddata2_ff.index >= '2015-09-02 01:00') & (ddata2_ff.index < '2015-09-03 00:00')\n",
    "nab.plot_series(ddata2_ff[mask], show_markers=True, figsize=figsize)\n",
    "plt.scatter(ddata2_ffonly.index[mask], ddata2_ffonly[mask], marker='.', c='tab:orange');"
   ]
  },
  {
   "cell_type": "markdown",
   "metadata": {
    "slideshow": {
     "slide_type": "subslide"
    }
   },
   "source": [
    "## Forward/Backward Filling with our Series\n",
    "\n",
    "**...But it is not particularly effective for larger gaps**"
   ]
  },
  {
   "cell_type": "code",
   "execution_count": 20,
   "metadata": {
    "scrolled": true
   },
   "outputs": [
    {
     "data": {
      "application/vnd.jupyter.widget-view+json": {
       "model_id": "e5c8f0a15cf242b9835db441d4cc910d",
       "version_major": 2,
       "version_minor": 0
      },
      "text/plain": [
       "Canvas(toolbar=Toolbar(toolitems=[('Home', 'Reset original view', 'home', 'home'), ('Back', 'Back to previous …"
      ]
     },
     "metadata": {},
     "output_type": "display_data"
    }
   ],
   "source": [
    "mask = (ddata2_ff.index >= '2015-09-08 18:00') & (ddata2_ff.index < '2015-09-09 18:00')\n",
    "nab.plot_series(ddata2_ff[mask], show_markers=True, figsize=figsize)\n",
    "plt.scatter(ddata2_ffonly.index[mask], ddata2_ffonly[mask], marker='.', c='tab:orange');"
   ]
  },
  {
   "cell_type": "markdown",
   "metadata": {
    "slideshow": {
     "slide_type": "subslide"
    }
   },
   "source": [
    "## (Geometric) Interpolation\n",
    "\n",
    "**A few more options are available via [the `interpolate` method](https://pandas.pydata.org/pandas-docs/stable/reference/api/pandas.DataFrame.interpolate.html)**\n",
    "\n",
    "```python\n",
    "DataFrame/Series.interpolate(method='linear', ...)\n",
    "```\n",
    "\n",
    "The `method` parameter determines how NaNs are filled:\n",
    "\n",
    "* \"linear\" uses a linear interpolation, assuming uniformly spaced samples\n",
    "* \"time\" uses a linear interpolation, but supports non-uniformly spaced samples\n",
    "* \"nearest\" uses the closest value\n",
    "* \"polynomial\" uses a polynomial interpolation\n",
    "* Even \"ffill\" and \"bfill\" are available\n",
    "\n",
    "Both \"polynomial\" and \"spline\" require to specify the additional parameter `order`\n",
    "\n",
    "* E.g. `df.interpolate(method='polynomial', order='3')`"
   ]
  },
  {
   "cell_type": "markdown",
   "metadata": {
    "slideshow": {
     "slide_type": "subslide"
    }
   },
   "source": [
    "## (Geometric) Interpolation\n",
    "\n",
    "**Let us check the performance of some approaches**"
   ]
  },
  {
   "cell_type": "code",
   "execution_count": 22,
   "metadata": {},
   "outputs": [
    {
     "name": "stdout",
     "output_type": "stream",
     "text": [
      "RMSE for linear: 4.42\n",
      "RMSE for time: 4.42\n",
      "RMSE for nearest: 4.95\n",
      "RMSE for polynomial: 17.89\n"
     ]
    }
   ],
   "source": [
    "args = [{'method':'linear'}, {'method':'time'}, {'method':'nearest'},\n",
    "        {'method':'polynomial', 'order': 2}]\n",
    "\n",
    "for a in args:\n",
    "    tmp = data1_mv.interpolate(**a)\n",
    "    rmse = np.sqrt(mean_squared_error(data1, tmp))\n",
    "    print(f'RMSE for {a[\"method\"]}: {rmse:.2f}')"
   ]
  },
  {
   "cell_type": "markdown",
   "metadata": {},
   "source": [
    "* \"linear\" and \"time\" are equivalent in this case (we have uniformly-spaced samples)\n",
    "* \"polynomial\" is the most complex, and in this case also the worst\n",
    "\n",
    "All perform _worse_ than forward filling (at least in this case)!"
   ]
  },
  {
   "cell_type": "markdown",
   "metadata": {
    "slideshow": {
     "slide_type": "subslide"
    }
   },
   "source": [
    "## Curve Interpolation on Traffic Data\n",
    "\n",
    "**On real data, we cannot (easily) compare interpolation methods**\n",
    "\n",
    "* This is because typically we have _no ground truth_\n",
    "* For now, we will settle for a visual inspection"
   ]
  },
  {
   "cell_type": "code",
   "execution_count": 23,
   "metadata": {},
   "outputs": [
    {
     "data": {
      "application/vnd.jupyter.widget-view+json": {
       "model_id": "b6f981086df647ddbdefb69663099590",
       "version_major": 2,
       "version_minor": 0
      },
      "text/plain": [
       "Canvas(toolbar=Toolbar(toolitems=[('Home', 'Reset original view', 'home', 'home'), ('Back', 'Back to previous …"
      ]
     },
     "metadata": {},
     "output_type": "display_data"
    }
   ],
   "source": [
    "ddata2_ln = ddata2.interpolate(method='linear')\n",
    "nab.plot_series(ddata2, filled_version=ddata2_ln, figsize=figsize)"
   ]
  },
  {
   "cell_type": "markdown",
   "metadata": {
    "slideshow": {
     "slide_type": "subslide"
    }
   },
   "source": [
    "## Considerations\n",
    "\n",
    "**All these methods for dealing with missing values:**\n",
    "\n",
    "* Work ok for small gaps, but loose effectiveness as the gap size grows\n",
    "* This is true _even for the more advanced_ filling methods!\n",
    "* Better methods just degrade a bit more slowly\n",
    "\n",
    "**MSE comparisons can be very effective:**\n",
    "\n",
    "* But requires access to ground truth!\n",
    "* An idea: _make_ your ground truth by artificially removing values\n",
    "* ...Then comparing filling methods based on their performance on the artificial gaps\n",
    "\n",
    "**MSE is not everything**\n",
    "\n",
    "* Every filling method makes mistakes: it's important not to make the _wrong ones_\n",
    "* Think about how you plan to use your (filled) time series\n",
    "* Can you expect the series to have uniform variance?"
   ]
  }
 ],
 "metadata": {
  "celltoolbar": "Slideshow",
  "kernelspec": {
   "display_name": "Python 3",
   "language": "python",
   "name": "python3"
  },
  "language_info": {
   "codemirror_mode": {
    "name": "ipython",
    "version": 3
   },
   "file_extension": ".py",
   "mimetype": "text/x-python",
   "name": "python",
   "nbconvert_exporter": "python",
   "pygments_lexer": "ipython3",
   "version": "3.9.2"
  },
  "rise": {
   "center": false,
   "transition": "fade"
  },
  "widgets": {
   "application/vnd.jupyter.widget-state+json": {
    "state": {},
    "version_major": 2,
    "version_minor": 0
   }
  }
 },
 "nbformat": 4,
 "nbformat_minor": 4
}
